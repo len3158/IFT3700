{
 "cells": [
  {
   "cell_type": "code",
   "execution_count": 1,
   "metadata": {},
   "outputs": [],
   "source": [
    "import pandas as pd\n",
    "import numpy as np"
   ]
  },
  {
   "cell_type": "code",
   "execution_count": 2,
   "metadata": {},
   "outputs": [
    {
     "name": "stdout",
     "output_type": "stream",
     "text": [
      "(70000,)\n",
      "(70000, 784)\n"
     ]
    }
   ],
   "source": [
    "# fetch data\n",
    "from sklearn.datasets import fetch_openml\n",
    "df, target = fetch_openml('mnist_784', version=1, return_X_y=True)\n",
    "# check shape of data\n",
    "print(target.shape)\n",
    "print(df.shape)"
   ]
  },
  {
   "cell_type": "code",
   "execution_count": 3,
   "metadata": {},
   "outputs": [
    {
     "name": "stdout",
     "output_type": "stream",
     "text": [
      "(70000, 784)\n",
      "(784, 70000)\n",
      "70000 nbEx 784 nbAtt\n",
      "784\n",
      "['att1', 'att2', 'att3', 'att4', 'att5', 'att6', 'att7', 'att8', 'att9', 'att10']\n",
      "70000\n",
      "['ex1', 'ex2', 'ex3', 'ex4', 'ex5', 'ex6', 'ex7', 'ex8', 'ex9', 'ex10']\n"
     ]
    }
   ],
   "source": [
    "data = df.copy()\n",
    "print(data.shape)\n",
    "data = data.T\n",
    "print(data.shape)\n",
    "nbEx = data.shape[1]\n",
    "nbAtt = data.shape[0]\n",
    "print(nbEx,'nbEx',nbAtt,'nbAtt')\n",
    "nbAttplus = nbAtt + 1\n",
    "features = ['att' + str(i) for i in range(1,nbAttplus)]\n",
    "print(len(features))\n",
    "print(features[0:10])\n",
    "nbExplus = nbEx + 1\n",
    "exemples = ['ex' + str(i) for i in range(1,nbExplus)]\n",
    "print(len(exemples))\n",
    "print(exemples[0:10])\n",
    "donnee = pd.DataFrame(data=data,    # values\n",
    "             index=features,    # 1st column as index\n",
    "             columns=exemples)  # 1st row as the column names"
   ]
  },
  {
   "cell_type": "code",
   "execution_count": 4,
   "metadata": {},
   "outputs": [
    {
     "name": "stdout",
     "output_type": "stream",
     "text": [
      "253.0\n",
      "253.0\n",
      "(784, 70000)\n",
      "      ex1  ex2  ex3  ex4  ex5  ex6  ex7  ex8  ex9  ex10  ...  ex69991  \\\n",
      "att1  0.0  0.0  0.0  0.0  0.0  0.0  0.0  0.0  0.0   0.0  ...      0.0   \n",
      "att2  0.0  0.0  0.0  0.0  0.0  0.0  0.0  0.0  0.0   0.0  ...      0.0   \n",
      "att3  0.0  0.0  0.0  0.0  0.0  0.0  0.0  0.0  0.0   0.0  ...      0.0   \n",
      "att4  0.0  0.0  0.0  0.0  0.0  0.0  0.0  0.0  0.0   0.0  ...      0.0   \n",
      "att5  0.0  0.0  0.0  0.0  0.0  0.0  0.0  0.0  0.0   0.0  ...      0.0   \n",
      "\n",
      "      ex69992  ex69993  ex69994  ex69995  ex69996  ex69997  ex69998  ex69999  \\\n",
      "att1      0.0      0.0      0.0      0.0      0.0      0.0      0.0      0.0   \n",
      "att2      0.0      0.0      0.0      0.0      0.0      0.0      0.0      0.0   \n",
      "att3      0.0      0.0      0.0      0.0      0.0      0.0      0.0      0.0   \n",
      "att4      0.0      0.0      0.0      0.0      0.0      0.0      0.0      0.0   \n",
      "att5      0.0      0.0      0.0      0.0      0.0      0.0      0.0      0.0   \n",
      "\n",
      "      ex70000  \n",
      "att1      0.0  \n",
      "att2      0.0  \n",
      "att3      0.0  \n",
      "att4      0.0  \n",
      "att5      0.0  \n",
      "\n",
      "[5 rows x 70000 columns]\n"
     ]
    }
   ],
   "source": [
    "print(data[129,1])\n",
    "print(donnee.loc['att130','ex2'])\n",
    "print(donnee.shape)\n",
    "print(donnee.head())"
   ]
  },
  {
   "cell_type": "code",
   "execution_count": null,
   "metadata": {},
   "outputs": [],
   "source": []
  }
 ],
 "metadata": {
  "kernelspec": {
   "display_name": "Python 3",
   "language": "python",
   "name": "python3"
  },
  "language_info": {
   "codemirror_mode": {
    "name": "ipython",
    "version": 3
   },
   "file_extension": ".py",
   "mimetype": "text/x-python",
   "name": "python",
   "nbconvert_exporter": "python",
   "pygments_lexer": "ipython3",
   "version": "3.7.4"
  }
 },
 "nbformat": 4,
 "nbformat_minor": 2
}
